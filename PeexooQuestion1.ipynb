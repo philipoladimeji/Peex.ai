{
 "cells": [
  {
   "cell_type": "code",
   "execution_count": 1,
   "metadata": {},
   "outputs": [],
   "source": [
    "import cv2;\n",
    "import sys;\n",
    "\n",
    "sys.path.append('C:\\\\cv\\\\Image\\\\peexoo')\n",
    "\n",
    "im = cv2.imread(os.path.join('C:\\\\cv\\\\image\\\\peexoo', Image))\n",
    "cv2.imshow('Image',im)\n",
    "cv2.waitKey(0)"
   ]
  },
  {
   "cell_type": "code",
   "execution_count": 2,
   "metadata": {},
   "outputs": [],
   "source": [
    "image = cv2.imread('image.jpg')\n",
    "\n",
    "grayimg = image\n",
    "height, width, channels = image.shape\n",
    "\n",
    "for i in range(height):\n",
    "    for j in range(width):\n",
    "        grayimg[i,j] = 0.3 * image[i,j][0] \n",
    "\n",
    "cv2.imshow('srcImage', image)\n",
    "cv2.imshow('Image', grayimg)\n",
    "cv2.waitKey(0)"
   ]
  },
  {
   "cell_type": "code",
   "execution_count": null,
   "metadata": {},
   "outputs": [],
   "source": []
  }
 ],
 "metadata": {
  "kernelspec": {
   "display_name": "Python 3",
   "language": "python",
   "name": "python3"
  },
  "language_info": {
   "codemirror_mode": {
    "name": "ipython",
    "version": 3
   },
   "file_extension": ".py",
   "mimetype": "text/x-python",
   "name": "python",
   "nbconvert_exporter": "python",
   "pygments_lexer": "ipython3",
   "version": "3.6.5"
  }
 },
 "nbformat": 4,
 "nbformat_minor": 2
}
